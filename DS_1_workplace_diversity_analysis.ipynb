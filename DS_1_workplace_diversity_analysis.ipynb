{
 "cells": [
  {
   "cell_type": "markdown",
   "metadata": {},
   "source": [
    "# INSIGHTS: Workplace Diversity Analysis\n",
    "### goal: \n",
    "\n",
    "1.Identify, for each employee, her corresponding level. \n",
    "- Individual Contributors(IC) - they don’t manage anyone\n",
    "- Middle Managers(MM) - they are the direct bosses of IC\n",
    "- Directors(D) - they are the direct bosses of MM\n",
    "- VP - D direct bosses\n",
    "- Executives (E) - VP direct bosses\n",
    "- CEO - The direct boss of E.\n",
    "\n",
    "2.How many people each employee manages? Consider that if John directly manages 2 people and these two people manage 5 people each, then we conclude that John manages 12 people.\n",
    "\n",
    "\n",
    "3.Build a model to predict the salary of each employee.\n",
    "\n",
    "\n",
    "4.Describe the main factors impacting employee salaries. Do you think the company has been treating all its employees fairly? What are the next steps you would suggest to the Head of HR?\n",
    "see if there are segments of employees that are treated worse."
   ]
  },
  {
   "cell_type": "code",
   "execution_count": 35,
   "metadata": {},
   "outputs": [],
   "source": [
    "import pandas as pd\n",
    "import seaborn as sns\n",
    "import matplotlib.pyplot as plt\n",
    "import numpy as np"
   ]
  },
  {
   "cell_type": "code",
   "execution_count": 36,
   "metadata": {},
   "outputs": [],
   "source": [
    "data_path = '/Users/yannicao/Documents/project/ds_data_challenge/diversity/'\n",
    "fn1 = 'company_hierarchy.csv'\n",
    "fn2 = 'employee.csv'\n",
    "\n",
    "ch = pd.read_csv(data_path+fn1) # ch.head()\n",
    "em = pd.read_csv(data_path+fn2) # em.head()\n",
    "df = pd.merge(em, ch, on='employee_id', how='left')"
   ]
  },
  {
   "cell_type": "code",
   "execution_count": 37,
   "metadata": {},
   "outputs": [
    {
     "data": {
      "text/html": [
       "<div>\n",
       "<style scoped>\n",
       "    .dataframe tbody tr th:only-of-type {\n",
       "        vertical-align: middle;\n",
       "    }\n",
       "\n",
       "    .dataframe tbody tr th {\n",
       "        vertical-align: top;\n",
       "    }\n",
       "\n",
       "    .dataframe thead th {\n",
       "        text-align: right;\n",
       "    }\n",
       "</style>\n",
       "<table border=\"1\" class=\"dataframe\">\n",
       "  <thead>\n",
       "    <tr style=\"text-align: right;\">\n",
       "      <th></th>\n",
       "      <th>employee_id</th>\n",
       "      <th>boss_id</th>\n",
       "      <th>dept</th>\n",
       "    </tr>\n",
       "  </thead>\n",
       "  <tbody>\n",
       "    <tr>\n",
       "      <th>0</th>\n",
       "      <td>46456</td>\n",
       "      <td>175361.0</td>\n",
       "      <td>sales</td>\n",
       "    </tr>\n",
       "  </tbody>\n",
       "</table>\n",
       "</div>"
      ],
      "text/plain": [
       "   employee_id   boss_id   dept\n",
       "0        46456  175361.0  sales"
      ]
     },
     "execution_count": 37,
     "metadata": {},
     "output_type": "execute_result"
    }
   ],
   "source": [
    "ch.head(1)"
   ]
  },
  {
   "cell_type": "code",
   "execution_count": 38,
   "metadata": {},
   "outputs": [
    {
     "data": {
      "text/html": [
       "<div>\n",
       "<style scoped>\n",
       "    .dataframe tbody tr th:only-of-type {\n",
       "        vertical-align: middle;\n",
       "    }\n",
       "\n",
       "    .dataframe tbody tr th {\n",
       "        vertical-align: top;\n",
       "    }\n",
       "\n",
       "    .dataframe thead th {\n",
       "        text-align: right;\n",
       "    }\n",
       "</style>\n",
       "<table border=\"1\" class=\"dataframe\">\n",
       "  <thead>\n",
       "    <tr style=\"text-align: right;\">\n",
       "      <th></th>\n",
       "      <th>employee_id</th>\n",
       "      <th>signing_bonus</th>\n",
       "      <th>salary</th>\n",
       "      <th>degree_level</th>\n",
       "      <th>sex</th>\n",
       "      <th>yrs_experience</th>\n",
       "    </tr>\n",
       "  </thead>\n",
       "  <tbody>\n",
       "    <tr>\n",
       "      <th>0</th>\n",
       "      <td>138719</td>\n",
       "      <td>0</td>\n",
       "      <td>273000.0</td>\n",
       "      <td>Master</td>\n",
       "      <td>M</td>\n",
       "      <td>2</td>\n",
       "    </tr>\n",
       "  </tbody>\n",
       "</table>\n",
       "</div>"
      ],
      "text/plain": [
       "   employee_id  signing_bonus    salary degree_level sex  yrs_experience\n",
       "0       138719              0  273000.0       Master   M               2"
      ]
     },
     "execution_count": 38,
     "metadata": {},
     "output_type": "execute_result"
    }
   ],
   "source": [
    "em.head(1)"
   ]
  },
  {
   "cell_type": "code",
   "execution_count": 39,
   "metadata": {},
   "outputs": [
    {
     "name": "stdout",
     "output_type": "stream",
     "text": [
      "10000\n",
      "10000\n"
     ]
    }
   ],
   "source": [
    "print(len(ch));print(len(df))"
   ]
  },
  {
   "cell_type": "code",
   "execution_count": 40,
   "metadata": {},
   "outputs": [
    {
     "data": {
      "text/html": [
       "<div>\n",
       "<style scoped>\n",
       "    .dataframe tbody tr th:only-of-type {\n",
       "        vertical-align: middle;\n",
       "    }\n",
       "\n",
       "    .dataframe tbody tr th {\n",
       "        vertical-align: top;\n",
       "    }\n",
       "\n",
       "    .dataframe thead th {\n",
       "        text-align: right;\n",
       "    }\n",
       "</style>\n",
       "<table border=\"1\" class=\"dataframe\">\n",
       "  <thead>\n",
       "    <tr style=\"text-align: right;\">\n",
       "      <th></th>\n",
       "      <th>employee_id</th>\n",
       "      <th>signing_bonus</th>\n",
       "      <th>salary</th>\n",
       "      <th>degree_level</th>\n",
       "      <th>sex</th>\n",
       "      <th>yrs_experience</th>\n",
       "      <th>boss_id</th>\n",
       "      <th>dept</th>\n",
       "    </tr>\n",
       "  </thead>\n",
       "  <tbody>\n",
       "    <tr>\n",
       "      <th>0</th>\n",
       "      <td>138719</td>\n",
       "      <td>0</td>\n",
       "      <td>273000.0</td>\n",
       "      <td>Master</td>\n",
       "      <td>M</td>\n",
       "      <td>2</td>\n",
       "      <td>43602.0</td>\n",
       "      <td>engineering</td>\n",
       "    </tr>\n",
       "  </tbody>\n",
       "</table>\n",
       "</div>"
      ],
      "text/plain": [
       "   employee_id  signing_bonus    salary degree_level sex  yrs_experience  \\\n",
       "0       138719              0  273000.0       Master   M               2   \n",
       "\n",
       "   boss_id         dept  \n",
       "0  43602.0  engineering  "
      ]
     },
     "execution_count": 40,
     "metadata": {},
     "output_type": "execute_result"
    }
   ],
   "source": [
    "df.head(1)"
   ]
  },
  {
   "cell_type": "markdown",
   "metadata": {},
   "source": [
    "## Question 1:\n",
    "\n",
    "Identify, for each employee, her corresponding level. \n",
    "- Individual Contributors(IC) - they don’t manage anyone\n",
    "- Middle Managers(MM) - they are the direct bosses of IC\n",
    "- Directors(D) - they are the direct bosses of MM\n",
    "- VP - D direct bosses\n",
    "- Executives (E) - VP direct bosses\n",
    "- CEO - The direct boss of E.\n",
    "\n",
    "\n",
    "\n",
    "<span style='color:red'>**Mistake:**</span> Look for CEO than goes down. My initial thought is from botton up. It does not work."
   ]
  },
  {
   "cell_type": "code",
   "execution_count": 43,
   "metadata": {},
   "outputs": [
    {
     "data": {
      "text/html": [
       "<div>\n",
       "<style scoped>\n",
       "    .dataframe tbody tr th:only-of-type {\n",
       "        vertical-align: middle;\n",
       "    }\n",
       "\n",
       "    .dataframe tbody tr th {\n",
       "        vertical-align: top;\n",
       "    }\n",
       "\n",
       "    .dataframe thead th {\n",
       "        text-align: right;\n",
       "    }\n",
       "</style>\n",
       "<table border=\"1\" class=\"dataframe\">\n",
       "  <thead>\n",
       "    <tr style=\"text-align: right;\">\n",
       "      <th></th>\n",
       "      <th>employee_id</th>\n",
       "      <th>signing_bonus</th>\n",
       "      <th>salary</th>\n",
       "      <th>degree_level</th>\n",
       "      <th>sex</th>\n",
       "      <th>yrs_experience</th>\n",
       "      <th>boss_id</th>\n",
       "      <th>dept</th>\n",
       "      <th>level</th>\n",
       "    </tr>\n",
       "  </thead>\n",
       "  <tbody>\n",
       "    <tr>\n",
       "      <th>0</th>\n",
       "      <td>138719</td>\n",
       "      <td>0</td>\n",
       "      <td>273000.0</td>\n",
       "      <td>Master</td>\n",
       "      <td>M</td>\n",
       "      <td>2</td>\n",
       "      <td>43602.0</td>\n",
       "      <td>engineering</td>\n",
       "      <td>IC</td>\n",
       "    </tr>\n",
       "    <tr>\n",
       "      <th>1</th>\n",
       "      <td>3192</td>\n",
       "      <td>0</td>\n",
       "      <td>301000.0</td>\n",
       "      <td>Bachelor</td>\n",
       "      <td>F</td>\n",
       "      <td>1</td>\n",
       "      <td>87847.0</td>\n",
       "      <td>sales</td>\n",
       "      <td>IC</td>\n",
       "    </tr>\n",
       "  </tbody>\n",
       "</table>\n",
       "</div>"
      ],
      "text/plain": [
       "   employee_id  signing_bonus    salary degree_level sex  yrs_experience  \\\n",
       "0       138719              0  273000.0       Master   M               2   \n",
       "1         3192              0  301000.0     Bachelor   F               1   \n",
       "\n",
       "   boss_id         dept level  \n",
       "0  43602.0  engineering    IC  \n",
       "1  87847.0        sales    IC  "
      ]
     },
     "execution_count": 43,
     "metadata": {},
     "output_type": "execute_result"
    }
   ],
   "source": [
    "df.head(2)"
   ]
  },
  {
   "cell_type": "code",
   "execution_count": 44,
   "metadata": {},
   "outputs": [],
   "source": [
    "levels = ['IC','MM','D','VP','E','CEO']\n",
    "df = df.assign(level='IC')"
   ]
  },
  {
   "cell_type": "code",
   "execution_count": 45,
   "metadata": {},
   "outputs": [],
   "source": [
    "ceo_id = df[df['boss_id'].isnull()]['employee_id'].values\n",
    "df.loc[df['employee_id'].isin(ceo_id),'level']= 'CEO'\n",
    "\n",
    "e = df[df['boss_id'].isin(ceo_id)]['employee_id'].values\n",
    "df.loc[df['boss_id'].isin(ceo_id),'level'] = 'E'\n",
    "\n",
    "vp = df[df['boss_id'].isin(e)]['employee_id'].values\n",
    "df.loc[df['boss_id'].isin(e),'level'] = 'VP'\n",
    "\n",
    "d = df[df['boss_id'].isin(vp)]['employee_id'].values\n",
    "df.loc[df['boss_id'].isin(vp),'level'] = 'D'\n",
    "\n",
    "mm = df[df['boss_id'].isin(d)]['employee_id'].values\n",
    "df.loc[df['boss_id'].isin(d),'level'] = 'MM'"
   ]
  },
  {
   "cell_type": "code",
   "execution_count": 49,
   "metadata": {},
   "outputs": [],
   "source": [
    "# df.loc[df['level'] == 'D']"
   ]
  },
  {
   "cell_type": "code",
   "execution_count": 10,
   "metadata": {},
   "outputs": [
    {
     "data": {
      "text/plain": [
       "IC     9000\n",
       "MM      800\n",
       "D       160\n",
       "VP       35\n",
       "E         4\n",
       "CEO       1\n",
       "Name: level, dtype: int64"
      ]
     },
     "execution_count": 10,
     "metadata": {},
     "output_type": "execute_result"
    }
   ],
   "source": [
    "df.level.value_counts()"
   ]
  },
  {
   "cell_type": "markdown",
   "metadata": {},
   "source": [
    "## Question 2:\n",
    "How many people each employee manages? Consider that if John directly manages 2 people and these two people manage 5 people each, then we conclude that John manages 12 people.\n",
    "\n",
    "<span style='color:red'>**Mistake:**</span> Director's total report need to include both <span style='color:red'>*middle manager(MM) themselves*</span> and their IC. I forget to count MM. I only aggregate ICs."
   ]
  },
  {
   "cell_type": "code",
   "execution_count": 50,
   "metadata": {},
   "outputs": [],
   "source": [
    "df = df.assign(num_reports=0)\n",
    "levels = ['IC','MM','D','VP','E','CEO']"
   ]
  },
  {
   "cell_type": "code",
   "execution_count": 51,
   "metadata": {},
   "outputs": [],
   "source": [
    "for l in levels:\n",
    "    # aggregate number of direct report and themselves. \n",
    "    # eg: level = 'MM', group by their boss_id, get D level id, agg x.count() + x.sum(), get a level\n",
    "    #     direct report count.\n",
    "    agg = df.loc[df['level'] == l].groupby('boss_id')['num_reports'].agg(lambda x: x.count() + x.sum())\n",
    "    agg = pd.DataFrame(agg).reset_index()\n",
    "    agg.columns = ['boss_id', 'count']\n",
    "\n",
    "    for i in agg.values:\n",
    "        boss_id = i[0]\n",
    "        count = i[1]\n",
    "        df.loc[df['employee_id']==boss_id,'num_reports'] = count   "
   ]
  },
  {
   "cell_type": "code",
   "execution_count": 13,
   "metadata": {},
   "outputs": [],
   "source": [
    "#df.loc[df['level'] == 'CEO']"
   ]
  },
  {
   "cell_type": "code",
   "execution_count": 55,
   "metadata": {},
   "outputs": [
    {
     "data": {
      "text/html": [
       "<div>\n",
       "<style scoped>\n",
       "    .dataframe tbody tr th:only-of-type {\n",
       "        vertical-align: middle;\n",
       "    }\n",
       "\n",
       "    .dataframe tbody tr th {\n",
       "        vertical-align: top;\n",
       "    }\n",
       "\n",
       "    .dataframe thead th {\n",
       "        text-align: right;\n",
       "    }\n",
       "</style>\n",
       "<table border=\"1\" class=\"dataframe\">\n",
       "  <thead>\n",
       "    <tr style=\"text-align: right;\">\n",
       "      <th></th>\n",
       "      <th>signing_bonus</th>\n",
       "      <th>salary</th>\n",
       "      <th>degree_level</th>\n",
       "      <th>sex</th>\n",
       "      <th>yrs_experience</th>\n",
       "      <th>dept</th>\n",
       "      <th>level</th>\n",
       "      <th>num_reports</th>\n",
       "    </tr>\n",
       "  </thead>\n",
       "  <tbody>\n",
       "    <tr>\n",
       "      <th>9119</th>\n",
       "      <td>1</td>\n",
       "      <td>550000.0</td>\n",
       "      <td>Master</td>\n",
       "      <td>M</td>\n",
       "      <td>22</td>\n",
       "      <td>sales</td>\n",
       "      <td>E</td>\n",
       "      <td>3598.0</td>\n",
       "    </tr>\n",
       "    <tr>\n",
       "      <th>8235</th>\n",
       "      <td>1</td>\n",
       "      <td>650000.0</td>\n",
       "      <td>PhD</td>\n",
       "      <td>M</td>\n",
       "      <td>33</td>\n",
       "      <td>engineering</td>\n",
       "      <td>E</td>\n",
       "      <td>2695.0</td>\n",
       "    </tr>\n",
       "    <tr>\n",
       "      <th>9410</th>\n",
       "      <td>1</td>\n",
       "      <td>550000.0</td>\n",
       "      <td>Master</td>\n",
       "      <td>M</td>\n",
       "      <td>21</td>\n",
       "      <td>marketing</td>\n",
       "      <td>E</td>\n",
       "      <td>2009.0</td>\n",
       "    </tr>\n",
       "    <tr>\n",
       "      <th>8184</th>\n",
       "      <td>1</td>\n",
       "      <td>500000.0</td>\n",
       "      <td>PhD</td>\n",
       "      <td>F</td>\n",
       "      <td>28</td>\n",
       "      <td>HR</td>\n",
       "      <td>E</td>\n",
       "      <td>1693.0</td>\n",
       "    </tr>\n",
       "    <tr>\n",
       "      <th>667</th>\n",
       "      <td>0</td>\n",
       "      <td>359000.0</td>\n",
       "      <td>PhD</td>\n",
       "      <td>F</td>\n",
       "      <td>26</td>\n",
       "      <td>sales</td>\n",
       "      <td>VP</td>\n",
       "      <td>607.0</td>\n",
       "    </tr>\n",
       "  </tbody>\n",
       "</table>\n",
       "</div>"
      ],
      "text/plain": [
       "      signing_bonus    salary degree_level sex  yrs_experience         dept  \\\n",
       "9119              1  550000.0       Master   M              22        sales   \n",
       "8235              1  650000.0          PhD   M              33  engineering   \n",
       "9410              1  550000.0       Master   M              21    marketing   \n",
       "8184              1  500000.0          PhD   F              28           HR   \n",
       "667               0  359000.0          PhD   F              26        sales   \n",
       "\n",
       "     level  num_reports  \n",
       "9119     E       3598.0  \n",
       "8235     E       2695.0  \n",
       "9410     E       2009.0  \n",
       "8184     E       1693.0  \n",
       "667     VP        607.0  "
      ]
     },
     "execution_count": 55,
     "metadata": {},
     "output_type": "execute_result"
    }
   ],
   "source": [
    "df.sort_values(by=['num_reports'], ascending=False).head()"
   ]
  },
  {
   "cell_type": "markdown",
   "metadata": {},
   "source": [
    "## Question 3\n",
    "3.Build a model to predict the salary of each employee.\n",
    "\n"
   ]
  },
  {
   "cell_type": "markdown",
   "metadata": {},
   "source": [
    "y = salary  \n",
    "x =   \n",
    "degree_level(cat)  \n",
    "sex(cat)  \n",
    "yrs_experience  \n",
    "department(cat)  \n",
    "level(cat)  \n",
    "number_report  \n"
   ]
  },
  {
   "cell_type": "code",
   "execution_count": 15,
   "metadata": {},
   "outputs": [],
   "source": [
    "# department\n",
    "# Engineering (data science is under engineering)\n",
    "# Marketing\n",
    "# Sales\n",
    "# HR\n",
    "# the “CEO” dept just for the CEO, since belongs to all the above dept."
   ]
  },
  {
   "cell_type": "code",
   "execution_count": 53,
   "metadata": {},
   "outputs": [],
   "source": [
    "# 1. get ride of useless data\n",
    "df = df[df.dept != 'CEO'].drop([\"employee_id\",\"boss_id\"], axis=1)"
   ]
  },
  {
   "cell_type": "code",
   "execution_count": 54,
   "metadata": {},
   "outputs": [
    {
     "data": {
      "text/html": [
       "<div>\n",
       "<style scoped>\n",
       "    .dataframe tbody tr th:only-of-type {\n",
       "        vertical-align: middle;\n",
       "    }\n",
       "\n",
       "    .dataframe tbody tr th {\n",
       "        vertical-align: top;\n",
       "    }\n",
       "\n",
       "    .dataframe thead th {\n",
       "        text-align: right;\n",
       "    }\n",
       "</style>\n",
       "<table border=\"1\" class=\"dataframe\">\n",
       "  <thead>\n",
       "    <tr style=\"text-align: right;\">\n",
       "      <th></th>\n",
       "      <th>signing_bonus</th>\n",
       "      <th>salary</th>\n",
       "      <th>degree_level</th>\n",
       "      <th>sex</th>\n",
       "      <th>yrs_experience</th>\n",
       "      <th>dept</th>\n",
       "      <th>level</th>\n",
       "      <th>num_reports</th>\n",
       "    </tr>\n",
       "  </thead>\n",
       "  <tbody>\n",
       "    <tr>\n",
       "      <th>0</th>\n",
       "      <td>0</td>\n",
       "      <td>273000.0</td>\n",
       "      <td>Master</td>\n",
       "      <td>M</td>\n",
       "      <td>2</td>\n",
       "      <td>engineering</td>\n",
       "      <td>IC</td>\n",
       "      <td>0.0</td>\n",
       "    </tr>\n",
       "    <tr>\n",
       "      <th>1</th>\n",
       "      <td>0</td>\n",
       "      <td>301000.0</td>\n",
       "      <td>Bachelor</td>\n",
       "      <td>F</td>\n",
       "      <td>1</td>\n",
       "      <td>sales</td>\n",
       "      <td>IC</td>\n",
       "      <td>0.0</td>\n",
       "    </tr>\n",
       "    <tr>\n",
       "      <th>2</th>\n",
       "      <td>0</td>\n",
       "      <td>261000.0</td>\n",
       "      <td>Master</td>\n",
       "      <td>F</td>\n",
       "      <td>2</td>\n",
       "      <td>sales</td>\n",
       "      <td>IC</td>\n",
       "      <td>0.0</td>\n",
       "    </tr>\n",
       "    <tr>\n",
       "      <th>3</th>\n",
       "      <td>0</td>\n",
       "      <td>86000.0</td>\n",
       "      <td>High_School</td>\n",
       "      <td>F</td>\n",
       "      <td>4</td>\n",
       "      <td>HR</td>\n",
       "      <td>IC</td>\n",
       "      <td>0.0</td>\n",
       "    </tr>\n",
       "    <tr>\n",
       "      <th>4</th>\n",
       "      <td>0</td>\n",
       "      <td>126000.0</td>\n",
       "      <td>Bachelor</td>\n",
       "      <td>F</td>\n",
       "      <td>3</td>\n",
       "      <td>sales</td>\n",
       "      <td>IC</td>\n",
       "      <td>0.0</td>\n",
       "    </tr>\n",
       "  </tbody>\n",
       "</table>\n",
       "</div>"
      ],
      "text/plain": [
       "   signing_bonus    salary degree_level sex  yrs_experience         dept  \\\n",
       "0              0  273000.0       Master   M               2  engineering   \n",
       "1              0  301000.0     Bachelor   F               1        sales   \n",
       "2              0  261000.0       Master   F               2        sales   \n",
       "3              0   86000.0  High_School   F               4           HR   \n",
       "4              0  126000.0     Bachelor   F               3        sales   \n",
       "\n",
       "  level  num_reports  \n",
       "0    IC          0.0  \n",
       "1    IC          0.0  \n",
       "2    IC          0.0  \n",
       "3    IC          0.0  \n",
       "4    IC          0.0  "
      ]
     },
     "execution_count": 54,
     "metadata": {},
     "output_type": "execute_result"
    }
   ],
   "source": [
    "df.head()"
   ]
  },
  {
   "cell_type": "code",
   "execution_count": 18,
   "metadata": {},
   "outputs": [],
   "source": [
    "# 2 relace\n",
    "codes = {\"High_School\":1, \"Bachelor\":2, \"Master\":3, \"PhD\":4}\n",
    "df['degree_level'] = df['degree_level'].map(codes)\n",
    "  \n",
    "codes = {\"IC\":1, \"MM\":2, \"D\":3,\"VP\":4, \"E\":5}\n",
    "df['level'] = df['level'].map(codes)\n",
    "  \n",
    "#Let's make sex numerical manually\n",
    "df['is_male'] = np.where(df['sex']=='M', 1,  0)\n",
    "del df['sex']"
   ]
  },
  {
   "cell_type": "code",
   "execution_count": 19,
   "metadata": {},
   "outputs": [
    {
     "data": {
      "text/html": [
       "<div>\n",
       "<style scoped>\n",
       "    .dataframe tbody tr th:only-of-type {\n",
       "        vertical-align: middle;\n",
       "    }\n",
       "\n",
       "    .dataframe tbody tr th {\n",
       "        vertical-align: top;\n",
       "    }\n",
       "\n",
       "    .dataframe thead th {\n",
       "        text-align: right;\n",
       "    }\n",
       "</style>\n",
       "<table border=\"1\" class=\"dataframe\">\n",
       "  <thead>\n",
       "    <tr style=\"text-align: right;\">\n",
       "      <th></th>\n",
       "      <th>signing_bonus</th>\n",
       "      <th>salary</th>\n",
       "      <th>degree_level</th>\n",
       "      <th>yrs_experience</th>\n",
       "      <th>dept</th>\n",
       "      <th>level</th>\n",
       "      <th>num_reports</th>\n",
       "      <th>is_male</th>\n",
       "    </tr>\n",
       "  </thead>\n",
       "  <tbody>\n",
       "    <tr>\n",
       "      <th>0</th>\n",
       "      <td>0</td>\n",
       "      <td>273000.0</td>\n",
       "      <td>3</td>\n",
       "      <td>2</td>\n",
       "      <td>engineering</td>\n",
       "      <td>1</td>\n",
       "      <td>0.0</td>\n",
       "      <td>1</td>\n",
       "    </tr>\n",
       "    <tr>\n",
       "      <th>1</th>\n",
       "      <td>0</td>\n",
       "      <td>301000.0</td>\n",
       "      <td>2</td>\n",
       "      <td>1</td>\n",
       "      <td>sales</td>\n",
       "      <td>1</td>\n",
       "      <td>0.0</td>\n",
       "      <td>0</td>\n",
       "    </tr>\n",
       "  </tbody>\n",
       "</table>\n",
       "</div>"
      ],
      "text/plain": [
       "   signing_bonus    salary  degree_level  yrs_experience         dept  level  \\\n",
       "0              0  273000.0             3               2  engineering      1   \n",
       "1              0  301000.0             2               1        sales      1   \n",
       "\n",
       "   num_reports  is_male  \n",
       "0          0.0        1  \n",
       "1          0.0        0  "
      ]
     },
     "execution_count": 19,
     "metadata": {},
     "output_type": "execute_result"
    }
   ],
   "source": [
    "df.head(2)"
   ]
  },
  {
   "cell_type": "code",
   "execution_count": 20,
   "metadata": {},
   "outputs": [],
   "source": [
    "from sklearn.ensemble import RandomForestRegressor\n",
    "from sklearn import metrics\n",
    "from sklearn.model_selection import train_test_split\n",
    "np.random.seed(1234)"
   ]
  },
  {
   "cell_type": "code",
   "execution_count": 21,
   "metadata": {},
   "outputs": [],
   "source": [
    "data_dummy = pd.get_dummies(df)"
   ]
  },
  {
   "cell_type": "code",
   "execution_count": 22,
   "metadata": {},
   "outputs": [],
   "source": [
    "train, test = train_test_split(data_dummy, test_size = 0.34)  "
   ]
  },
  {
   "cell_type": "code",
   "execution_count": 23,
   "metadata": {},
   "outputs": [
    {
     "data": {
      "text/plain": [
       "RandomForestRegressor(bootstrap=True, criterion='mse', max_depth=None,\n",
       "           max_features='auto', max_leaf_nodes=None,\n",
       "           min_impurity_decrease=0.0, min_impurity_split=None,\n",
       "           min_samples_leaf=1, min_samples_split=2,\n",
       "           min_weight_fraction_leaf=0.0, n_estimators=100, n_jobs=1,\n",
       "           oob_score=True, random_state=None, verbose=0, warm_start=False)"
      ]
     },
     "execution_count": 23,
     "metadata": {},
     "output_type": "execute_result"
    }
   ],
   "source": [
    "rf = RandomForestRegressor(oob_score=True, n_estimators = 100)\n",
    "rf.fit(train.drop('salary', axis=1), train['salary'])  "
   ]
  },
  {
   "cell_type": "code",
   "execution_count": 24,
   "metadata": {},
   "outputs": [
    {
     "name": "stdout",
     "output_type": "stream",
     "text": [
      "MSE on OOB is 5622738581.0 and on test set is 5808964475.0\n"
     ]
    }
   ],
   "source": [
    "print(\"MSE on OOB is\", metrics.mean_squared_error(train['salary'], rf.oob_prediction_).round(), \"and on test set is\", metrics.mean_squared_error(test['salary'], rf.predict(test.drop('salary', axis=1))).round())"
   ]
  },
  {
   "cell_type": "code",
   "execution_count": 25,
   "metadata": {},
   "outputs": [
    {
     "name": "stdout",
     "output_type": "stream",
     "text": [
      "We are within 25% of the actual salary in 50.0% of the cases\n"
     ]
    }
   ],
   "source": [
    "accuracy_25pct =  ((rf.predict(test.drop('salary', axis=1))/test['salary']-1).abs()<.25).mean()\n",
    "print(\"We are within 25% of the actual salary in \",  accuracy_25pct.round(2)*100, \"% of the cases\", sep=\"\")"
   ]
  },
  {
   "cell_type": "markdown",
   "metadata": {},
   "source": [
    "Nothing shockingly good and we would probably need more variables to predict more accurately. However, the variable salary had a lot of variability to begin with."
   ]
  },
  {
   "cell_type": "code",
   "execution_count": 26,
   "metadata": {},
   "outputs": [
    {
     "name": "stdout",
     "output_type": "stream",
     "text": [
      "[ 60000.  77000.  98000. 126000. 155000. 182000. 208800. 238000. 274000.\n",
      " 318000.]\n"
     ]
    }
   ],
   "source": [
    "#deciles\n",
    "print(np.percentile(train['salary'], np.arange(0, 100, 10))) "
   ]
  },
  {
   "cell_type": "code",
   "execution_count": 28,
   "metadata": {},
   "outputs": [
    {
     "data": {
      "image/png": "[encoded data removed]",
      "text/plain": [
       "<matplotlib.figure.Figure at 0x1a1d86ef98>"
      ]
     },
     "metadata": {},
     "output_type": "display_data"
    }
   ],
   "source": [
    "#Let's check variable importance\n",
    "feat_importances = pd.Series(rf.feature_importances_, index=train.drop('salary', axis=1).columns)\n",
    "feat_importances.sort_values().plot(kind='barh')\n",
    "plt.show()"
   ]
  },
  {
   "cell_type": "markdown",
   "metadata": {},
   "source": [
    "It looks like the model is essentially just using dept and, to a lesser extent, num_reports, degree_level, and yrs_experience. All other variables are fairly irrelevant. "
   ]
  },
  {
   "cell_type": "code",
   "execution_count": 32,
   "metadata": {},
   "outputs": [
    {
     "data": {
      "image/png": "[encoded data removed]",
      "text/plain": [
       "<matplotlib.figure.Figure at 0x1a1f088518>"
      ]
     },
     "metadata": {},
     "output_type": "display_data"
    }
   ],
   "source": [
    "#Let's check partial dependence plots of the top 2 variables: dept and yrs_experience, as well as sex\n",
    "from pdpbox import pdp, info_plots\n",
    "  \n",
    "#dept\n",
    "pdp_iso = pdp.pdp_isolate(model=rf, \n",
    "                          dataset=train.drop('salary', axis=1),      \n",
    "                          model_features=list(train.drop('salary', axis=1)), \n",
    "                          feature=['dept_HR', 'dept_engineering', 'dept_marketing', 'dept_sales'], \n",
    "                          num_grid_points=50)\n",
    "pdp_dataset = pd.Series(pdp_iso.pdp, index=pdp_iso.display_columns)\n",
    "pdp_dataset.sort_values(ascending=False).plot(kind='bar', title='Partial Plot for Dept')\n",
    "plt.show()"
   ]
  },
  {
   "cell_type": "code",
   "execution_count": 33,
   "metadata": {},
   "outputs": [
    {
     "data": {
      "image/png": "[encoded data removed]",
      "text/plain": [
       "<matplotlib.figure.Figure at 0x1a1e2bcef0>"
      ]
     },
     "metadata": {},
     "output_type": "display_data"
    }
   ],
   "source": [
    "#yrs_experience\n",
    "pdp_iso = pdp.pdp_isolate(model=rf, \n",
    "                          dataset=train.drop('salary', axis=1),      \n",
    "                          model_features=list(train.drop('salary', axis=1)), \n",
    "                          feature='yrs_experience', \n",
    "                          num_grid_points=50)\n",
    "pdp_dataset = pd.Series(pdp_iso.pdp, index=pdp_iso.feature_grids)\n",
    "pdp_dataset.plot(title='Partial Plot for Years of Experience')\n",
    "plt.show()"
   ]
  },
  {
   "cell_type": "code",
   "execution_count": 34,
   "metadata": {},
   "outputs": [
    {
     "data": {
      "image/png": "[encoded data removed]",
      "text/plain": [
       "<matplotlib.figure.Figure at 0x1a1ee50da0>"
      ]
     },
     "metadata": {},
     "output_type": "display_data"
    }
   ],
   "source": [
    "#is_male\n",
    "pdp_iso = pdp.pdp_isolate(model=rf, \n",
    "                          dataset=train.drop('salary', axis=1),      \n",
    "                          model_features=list(train.drop('salary', axis=1)), \n",
    "                          feature='is_male', \n",
    "                          num_grid_points=50)\n",
    "pdp_dataset = pd.Series(pdp_iso.pdp, index=pdp_iso.feature_grids)\n",
    "pdp_dataset.sort_values(ascending=False).plot(kind='bar',title='Partial Plot for is_male')\n",
    "plt.show()"
   ]
  },
  {
   "cell_type": "markdown",
   "metadata": {},
   "source": [
    "Department is definitely the main driver of salary. The difference between HR and Engineering is very large.\n",
    "\n",
    "Years of experience matters too, but less (note the smaller y range compared to dept). Most importantly, experience seems to matter more past a certain number. That is, salary will start going up after you become fairly senior. Within the first years, it doesn’t have much of an impact taken independently -> to make a lot of money you need to get to a very senior position.\n",
    "\n",
    "Sex doesn’t appear to matter.\n",
    "\n"
   ]
  },
  {
   "cell_type": "markdown",
   "metadata": {},
   "source": [
    "# Appendix 3 Data exploration\n",
    "\n",
    "### Evaluation\n",
    "By looking at the data. There are couple ways we can evaluate whether the segment of mployees are treated wores than others\n",
    "\n",
    "- sign on bonous  \n",
    "- salary  \n",
    "- promotion after certain years  \n",
    "\n",
    "The first two can get directly from the data. The third one need some data manumulpation. \n",
    "\n",
    "### Features\n",
    "The dataset provides some very useful features:  \n",
    "- degree  \n",
    "- sex  \n",
    "- department  \n",
    "- yrs_experience \n",
    "\n",
    "We will start with Gender"
   ]
  },
  {
   "cell_type": "markdown",
   "metadata": {},
   "source": [
    "## Gender"
   ]
  },
  {
   "cell_type": "code",
   "execution_count": 52,
   "metadata": {},
   "outputs": [
    {
     "data": {
      "text/plain": [
       "<matplotlib.axes._subplots.AxesSubplot at 0x1a21165278>"
      ]
     },
     "execution_count": 52,
     "metadata": {},
     "output_type": "execute_result"
    },
    {
     "data": {
      "image/png": "[encoded data removed]",
      "text/plain": [
       "<matplotlib.figure.Figure at 0x1a20997e48>"
      ]
     },
     "metadata": {},
     "output_type": "display_data"
    }
   ],
   "source": [
    "sns.lineplot(x=\"yrs_experience\", y=\"signing_bonus\", hue = 'sex', data=df)"
   ]
  },
  {
   "cell_type": "code",
   "execution_count": 9,
   "metadata": {},
   "outputs": [
    {
     "data": {
      "text/plain": [
       "<matplotlib.axes._subplots.AxesSubplot at 0x1a16fc50f0>"
      ]
     },
     "execution_count": 9,
     "metadata": {},
     "output_type": "execute_result"
    },
    {
     "data": {
      "image/png": "[encoded data removed]",
      "text/plain": [
       "<matplotlib.figure.Figure at 0x1a1705fef0>"
      ]
     },
     "metadata": {},
     "output_type": "display_data"
    }
   ],
   "source": [
    "sns.distplot(df[df['yrs_experience'] > 15]['yrs_experience'])"
   ]
  },
  {
   "cell_type": "code",
   "execution_count": 53,
   "metadata": {},
   "outputs": [
    {
     "name": "stdout",
     "output_type": "stream",
     "text": [
      "This company has 3561 female employees, which account for 35.61 in total employees.\n",
      "This company has 6439 male employees, which account for 64.39 in total employees.\n"
     ]
    }
   ],
   "source": [
    "f_total = len(df[df['sex'] == 'F'])\n",
    "m_total = len(df[df['sex'] == 'M'])\n",
    "total_em = 10000\n",
    "f_w_sb = len(df[(df['signing_bonus'] == 1) & (df['sex'] == 'F')])\n",
    "m_w_sb = len(df[(df['signing_bonus'] == 1) & (df['sex'] == 'M')])\n",
    "\n",
    "print('This company has ' + str(f_total) + ' female employees, which account for ' \n",
    "      + str(f_total/total_em*100) + ' in total employees.')\n",
    "print('This company has ' + str(m_total) + ' male employees, which account for ' \n",
    "      + str(m_total/total_em*100) + ' in total employees.')"
   ]
  },
  {
   "cell_type": "code",
   "execution_count": 43,
   "metadata": {},
   "outputs": [
    {
     "name": "stdout",
     "output_type": "stream",
     "text": [
      "0.39473684210526316\n",
      "0.4307692307692308\n"
     ]
    }
   ],
   "source": [
    "print(f_w_sb/f_total)\n",
    "print(m_w_sb/m_total)"
   ]
  },
  {
   "cell_type": "markdown",
   "metadata": {},
   "source": [
    "The company has unblanced gender ratio. 65% are male and 35% are female."
   ]
  },
  {
   "cell_type": "code",
   "execution_count": 54,
   "metadata": {},
   "outputs": [
    {
     "data": {
      "text/html": [
       "<div>\n",
       "<style scoped>\n",
       "    .dataframe tbody tr th:only-of-type {\n",
       "        vertical-align: middle;\n",
       "    }\n",
       "\n",
       "    .dataframe tbody tr th {\n",
       "        vertical-align: top;\n",
       "    }\n",
       "\n",
       "    .dataframe thead th {\n",
       "        text-align: right;\n",
       "    }\n",
       "</style>\n",
       "<table border=\"1\" class=\"dataframe\">\n",
       "  <thead>\n",
       "    <tr style=\"text-align: right;\">\n",
       "      <th></th>\n",
       "      <th>employee_id</th>\n",
       "      <th>signing_bonus</th>\n",
       "      <th>salary</th>\n",
       "      <th>degree_level</th>\n",
       "      <th>sex</th>\n",
       "      <th>yrs_experience</th>\n",
       "      <th>boss_id</th>\n",
       "      <th>dept</th>\n",
       "    </tr>\n",
       "  </thead>\n",
       "  <tbody>\n",
       "    <tr>\n",
       "      <th>0</th>\n",
       "      <td>138719</td>\n",
       "      <td>0</td>\n",
       "      <td>273000.0</td>\n",
       "      <td>Master</td>\n",
       "      <td>M</td>\n",
       "      <td>2</td>\n",
       "      <td>43602.0</td>\n",
       "      <td>engineering</td>\n",
       "    </tr>\n",
       "    <tr>\n",
       "      <th>1</th>\n",
       "      <td>3192</td>\n",
       "      <td>0</td>\n",
       "      <td>301000.0</td>\n",
       "      <td>Bachelor</td>\n",
       "      <td>F</td>\n",
       "      <td>1</td>\n",
       "      <td>87847.0</td>\n",
       "      <td>sales</td>\n",
       "    </tr>\n",
       "    <tr>\n",
       "      <th>2</th>\n",
       "      <td>114657</td>\n",
       "      <td>0</td>\n",
       "      <td>261000.0</td>\n",
       "      <td>Master</td>\n",
       "      <td>F</td>\n",
       "      <td>2</td>\n",
       "      <td>180854.0</td>\n",
       "      <td>sales</td>\n",
       "    </tr>\n",
       "    <tr>\n",
       "      <th>3</th>\n",
       "      <td>29039</td>\n",
       "      <td>0</td>\n",
       "      <td>86000.0</td>\n",
       "      <td>High_School</td>\n",
       "      <td>F</td>\n",
       "      <td>4</td>\n",
       "      <td>88370.0</td>\n",
       "      <td>HR</td>\n",
       "    </tr>\n",
       "    <tr>\n",
       "      <th>4</th>\n",
       "      <td>118607</td>\n",
       "      <td>0</td>\n",
       "      <td>126000.0</td>\n",
       "      <td>Bachelor</td>\n",
       "      <td>F</td>\n",
       "      <td>3</td>\n",
       "      <td>23565.0</td>\n",
       "      <td>sales</td>\n",
       "    </tr>\n",
       "  </tbody>\n",
       "</table>\n",
       "</div>"
      ],
      "text/plain": [
       "   employee_id  signing_bonus    salary degree_level sex  yrs_experience  \\\n",
       "0       138719              0  273000.0       Master   M               2   \n",
       "1         3192              0  301000.0     Bachelor   F               1   \n",
       "2       114657              0  261000.0       Master   F               2   \n",
       "3        29039              0   86000.0  High_School   F               4   \n",
       "4       118607              0  126000.0     Bachelor   F               3   \n",
       "\n",
       "    boss_id         dept  \n",
       "0   43602.0  engineering  \n",
       "1   87847.0        sales  \n",
       "2  180854.0        sales  \n",
       "3   88370.0           HR  \n",
       "4   23565.0        sales  "
      ]
     },
     "execution_count": 54,
     "metadata": {},
     "output_type": "execute_result"
    }
   ],
   "source": [
    "df.head()"
   ]
  },
  {
   "cell_type": "code",
   "execution_count": 55,
   "metadata": {},
   "outputs": [
    {
     "data": {
      "text/plain": [
       "<matplotlib.axes._subplots.AxesSubplot at 0x1a171ce5c0>"
      ]
     },
     "execution_count": 55,
     "metadata": {},
     "output_type": "execute_result"
    },
    {
     "data": {
      "image/png": "[encoded data removed]",
      "text/plain": [
       "<matplotlib.figure.Figure at 0x1a20fda4a8>"
      ]
     },
     "metadata": {},
     "output_type": "display_data"
    }
   ],
   "source": [
    "sns.lineplot(x=\"yrs_experience\", y=\"salary\", hue = 'sex', data=df)"
   ]
  },
  {
   "cell_type": "code",
   "execution_count": 76,
   "metadata": {},
   "outputs": [],
   "source": [
    "df1 = df[df['yrs_experience'] > 15]\n",
    "df2 = df[df['yrs_experience'] < 15]"
   ]
  },
  {
   "cell_type": "code",
   "execution_count": 77,
   "metadata": {},
   "outputs": [
    {
     "data": {
      "text/html": [
       "<div>\n",
       "<style scoped>\n",
       "    .dataframe tbody tr th:only-of-type {\n",
       "        vertical-align: middle;\n",
       "    }\n",
       "\n",
       "    .dataframe tbody tr th {\n",
       "        vertical-align: top;\n",
       "    }\n",
       "\n",
       "    .dataframe thead th {\n",
       "        text-align: right;\n",
       "    }\n",
       "</style>\n",
       "<table border=\"1\" class=\"dataframe\">\n",
       "  <thead>\n",
       "    <tr style=\"text-align: right;\">\n",
       "      <th></th>\n",
       "      <th>employee_id</th>\n",
       "      <th>signing_bonus</th>\n",
       "      <th>salary</th>\n",
       "      <th>yrs_experience</th>\n",
       "      <th>boss_id</th>\n",
       "    </tr>\n",
       "    <tr>\n",
       "      <th>sex</th>\n",
       "      <th></th>\n",
       "      <th></th>\n",
       "      <th></th>\n",
       "      <th></th>\n",
       "      <th></th>\n",
       "    </tr>\n",
       "  </thead>\n",
       "  <tbody>\n",
       "    <tr>\n",
       "      <th>F</th>\n",
       "      <td>98256.473684</td>\n",
       "      <td>0.394737</td>\n",
       "      <td>236552.631579</td>\n",
       "      <td>21.473684</td>\n",
       "      <td>83160.500000</td>\n",
       "    </tr>\n",
       "    <tr>\n",
       "      <th>M</th>\n",
       "      <td>101389.753846</td>\n",
       "      <td>0.430769</td>\n",
       "      <td>242384.615385</td>\n",
       "      <td>20.692308</td>\n",
       "      <td>98366.523077</td>\n",
       "    </tr>\n",
       "  </tbody>\n",
       "</table>\n",
       "</div>"
      ],
      "text/plain": [
       "       employee_id  signing_bonus         salary  yrs_experience       boss_id\n",
       "sex                                                                           \n",
       "F     98256.473684       0.394737  236552.631579       21.473684  83160.500000\n",
       "M    101389.753846       0.430769  242384.615385       20.692308  98366.523077"
      ]
     },
     "execution_count": 77,
     "metadata": {},
     "output_type": "execute_result"
    }
   ],
   "source": [
    "df1.groupby(by='sex').mean()"
   ]
  },
  {
   "cell_type": "code",
   "execution_count": 78,
   "metadata": {},
   "outputs": [
    {
     "data": {
      "text/html": [
       "<div>\n",
       "<style scoped>\n",
       "    .dataframe tbody tr th:only-of-type {\n",
       "        vertical-align: middle;\n",
       "    }\n",
       "\n",
       "    .dataframe tbody tr th {\n",
       "        vertical-align: top;\n",
       "    }\n",
       "\n",
       "    .dataframe thead th {\n",
       "        text-align: right;\n",
       "    }\n",
       "</style>\n",
       "<table border=\"1\" class=\"dataframe\">\n",
       "  <thead>\n",
       "    <tr style=\"text-align: right;\">\n",
       "      <th></th>\n",
       "      <th>employee_id</th>\n",
       "      <th>signing_bonus</th>\n",
       "      <th>salary</th>\n",
       "      <th>yrs_experience</th>\n",
       "      <th>boss_id</th>\n",
       "    </tr>\n",
       "    <tr>\n",
       "      <th>sex</th>\n",
       "      <th></th>\n",
       "      <th></th>\n",
       "      <th></th>\n",
       "      <th></th>\n",
       "      <th></th>\n",
       "    </tr>\n",
       "  </thead>\n",
       "  <tbody>\n",
       "    <tr>\n",
       "      <th>F</th>\n",
       "      <td>100194.159330</td>\n",
       "      <td>0.270094</td>\n",
       "      <td>170644.703209</td>\n",
       "      <td>3.735586</td>\n",
       "      <td>101728.678216</td>\n",
       "    </tr>\n",
       "    <tr>\n",
       "      <th>M</th>\n",
       "      <td>99871.705688</td>\n",
       "      <td>0.316782</td>\n",
       "      <td>198409.176618</td>\n",
       "      <td>3.654620</td>\n",
       "      <td>104341.692598</td>\n",
       "    </tr>\n",
       "  </tbody>\n",
       "</table>\n",
       "</div>"
      ],
      "text/plain": [
       "       employee_id  signing_bonus         salary  yrs_experience  \\\n",
       "sex                                                                \n",
       "F    100194.159330       0.270094  170644.703209        3.735586   \n",
       "M     99871.705688       0.316782  198409.176618        3.654620   \n",
       "\n",
       "           boss_id  \n",
       "sex                 \n",
       "F    101728.678216  \n",
       "M    104341.692598  "
      ]
     },
     "execution_count": 78,
     "metadata": {},
     "output_type": "execute_result"
    }
   ],
   "source": [
    "df2.groupby(by='sex').mean()"
   ]
  },
  {
   "cell_type": "code",
   "execution_count": 79,
   "metadata": {},
   "outputs": [
    {
     "name": "stdout",
     "output_type": "stream",
     "text": [
      "0.8610745448239487\n",
      "1.0221544237157352\n"
     ]
    }
   ],
   "source": [
    "print(171314.51839/198954.340736)\n",
    "print(3.735586/3.654620)"
   ]
  },
  {
   "cell_type": "code",
   "execution_count": 74,
   "metadata": {},
   "outputs": [
    {
     "data": {
      "text/plain": [
       "0.9759391337740781"
      ]
     },
     "execution_count": 74,
     "metadata": {},
     "output_type": "execute_result"
    }
   ],
   "source": [
    "236552.631579/242384.615385"
   ]
  },
  {
   "cell_type": "markdown",
   "metadata": {},
   "source": [
    "This tells us in people's early career (years of experence below 15). Women with longer average working experiences have 14% lower the average salary than man. The salary difference is smaller when the working experience is longer than 15 years with only 3% differnece between man and woman. \n",
    "\n",
    "We suggest to improve the women's salary especially they are in their junior stage of the career. By doing it, more women are likely to join the company. It also helps to balance the gender ratio."
   ]
  },
  {
   "cell_type": "code",
   "execution_count": null,
   "metadata": {},
   "outputs": [],
   "source": []
  }
 ],
 "metadata": {
  "kernelspec": {
   "display_name": "Python 3",
   "language": "python",
   "name": "python3"
  },
  "language_info": {
   "codemirror_mode": {
    "name": "ipython",
    "version": 3
   },
   "file_extension": ".py",
   "mimetype": "text/x-python",
   "name": "python",
   "nbconvert_exporter": "python",
   "pygments_lexer": "ipython3",
   "version": "3.6.4"
  }
 },
 "nbformat": 4,
 "nbformat_minor": 4
}
